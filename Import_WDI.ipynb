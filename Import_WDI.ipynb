{
 "cells": [
  {
   "cell_type": "code",
   "execution_count": 1,
   "id": "5eb1ab04",
   "metadata": {},
   "outputs": [],
   "source": [
    "import pandas as pd\n",
    "from datetime import datetime\n",
    "import country_converter as coco\n",
    "import wbgapi as wb\n",
    "import os\n",
    "\n",
    "cc = coco.CountryConverter()"
   ]
  },
  {
   "cell_type": "code",
   "execution_count": 2,
   "id": "b8162efa",
   "metadata": {},
   "outputs": [],
   "source": [
    "# define path\n",
    "path_rawdata = os.path.normpath(os.getcwd()+os.sep+os.pardir)+'/RawData/'"
   ]
  },
  {
   "cell_type": "code",
   "execution_count": 3,
   "id": "ad482d2a",
   "metadata": {},
   "outputs": [],
   "source": [
    "# create dictionary with variables names\n",
    "varnames = {'SP.POP.TOTL': 'population', \n",
    "            'NY.GDP.MKTP.CD': 'gdp_cur_dol',\n",
    "            'NY.GDP.MKTP.KD': 'gdp_const_dol',\n",
    "            'NY.GDP.MKTP.CN': 'gdp_cur_lcu',\n",
    "            'NY.GDP.MKTP.KN': 'gdp_const_lcu',\n",
    "            'NE.CON.TOTL.CD': 'cons_cur_dol',\n",
    "            'NE.CON.TOTL.KD': 'cons_const_dol',\n",
    "            'NE.CON.TOTL.CN': 'cons_cur_lcu',\n",
    "            'NE.CON.TOTL.KN': 'cons_const_lcu',\n",
    "            'NE.CON.PRVT.PP.KD': 'cons_const_icu',\n",
    "            'NE.IMP.GNFS.KD': 'imp_const_dol',\n",
    "            'NE.EXP.GNFS.KD': 'exp_const_dol',\n",
    "            'NE.IMP.GNFS.CD': 'imp_cur_dol',\n",
    "            'NE.EXP.GNFS.CD': 'exp_cur_dol'}\n",
    "\n",
    "mydesc = list(varnames.values()) # list with values\n",
    "myvals = list(varnames.keys()) # list with variables names"
   ]
  },
  {
   "cell_type": "code",
   "execution_count": 4,
   "id": "50a2fd4f",
   "metadata": {},
   "outputs": [],
   "source": [
    "# The code for all countries takes a couple of minutes to run\n",
    "# To run it for a subset of countries, line below can be replaced by\n",
    "#wdi = wb.data.DataFrame(myvals,['FRA','DEU','GBR','ITA','USA','JPN','CAN','CHN','IND'],time=range(1970,2019), numericTimeKeys=True,columns='series').reset_index()\n",
    "wdi = wb.data.DataFrame(myvals,time=range(1970,2023), numericTimeKeys=True,columns='series',skipAggs=True).reset_index()\n",
    "wdi.rename(columns = {'economy': 'iso3','time': 'year'}, inplace = True)\n",
    "wdi.rename(columns = varnames, inplace = True) # renames WDI variables with more intuitive labels"
   ]
  },
  {
   "cell_type": "code",
   "execution_count": 5,
   "id": "9a82ac44",
   "metadata": {},
   "outputs": [],
   "source": [
    "# [EMILY] remove ISO3 code CHI, which doesn't match any country/region\n",
    "wdi.drop(wdi[wdi['iso3'] == 'CHI'].index, inplace=True)"
   ]
  },
  {
   "cell_type": "code",
   "execution_count": 6,
   "id": "4e8c8eeb",
   "metadata": {},
   "outputs": [],
   "source": [
    "# [EMILY] separately import taiwan\n",
    "taiwan = pd.read_csv(path_rawdata+'taiwan_haver.csv')\n",
    "taiwan['iso3'] = 'TWN'\n",
    "taiwan = taiwan.astype({'exp_cur_dol':'float',\n",
    "                        'imp_cur_dol':'float',\n",
    "                        'gdp_cur_dol':'float', \n",
    "                        'cons_cur_dol':'float'})"
   ]
  },
  {
   "cell_type": "code",
   "execution_count": 7,
   "id": "0d78e576",
   "metadata": {},
   "outputs": [],
   "source": [
    "# [EMILY] merge with wdi\n",
    "wdi = pd.merge(left=wdi, right=taiwan, how='outer', on=list(taiwan.columns))"
   ]
  },
  {
   "cell_type": "code",
   "execution_count": 8,
   "id": "ba3e4a74",
   "metadata": {},
   "outputs": [],
   "source": [
    "# Get data about eurozone entry dates\n",
    "euro = pd.read_csv(path_rawdata+'Euro_Yield_Dates.csv', encoding='latin-1')\n",
    "euro['Currency'] = None\n",
    "euro['EntryDate'] = pd.DatetimeIndex(pd.to_datetime(euro['Date'], format='%d/%m/%Y')).year\n",
    "euro['Date'] = None\n",
    "euro['iso2'] = euro['Code'].str[:2]\n",
    "euro['iso3'] = cc.pandas_convert(series=euro['iso2'], to='ISO3')\n",
    "euro = euro[['iso3','EntryDate']] # euro dataframe is only left with 2 columns, country code and entry year"
   ]
  },
  {
   "cell_type": "code",
   "execution_count": 9,
   "id": "596ac0d9",
   "metadata": {},
   "outputs": [],
   "source": [
    "# merge wdi with euro\n",
    "tmpeuro = pd.merge(left=euro, right=wdi, on='iso3', how='left') \n",
    "tmpeuro['year'] = tmpeuro['year'].astype('Int64')\n",
    "tmpeuro = tmpeuro[tmpeuro['year'] >= tmpeuro['EntryDate']]\n",
    "tmpeuro = tmpeuro.drop('EntryDate', axis=1)\n",
    "\n",
    "# Unpivot data from wide to long format\n",
    "tmpeuro = pd.melt(tmpeuro,id_vars=['iso3','year'])\n",
    "\n",
    "# Sum over all countries belonging to eurozone\n",
    "tmpeuro = tmpeuro.groupby(['year','variable'], as_index=False)['value'].sum()\n",
    "\n",
    "# Add new column iso3 with EUR value for all rows\n",
    "tmpeuro['iso3']='EUR'\n",
    "\n",
    "# Reshape from long to wide format (51)\n",
    "tmpeuro = tmpeuro.pivot_table(index=['iso3','year'],columns='variable',values='value').reset_index()\\\n",
    "            .rename_axis(None, axis=1)\n",
    "\n",
    "# Concatenate wdi and tmpeuro\n",
    "wdi = pd.concat([wdi, tmpeuro], ignore_index=True)"
   ]
  },
  {
   "cell_type": "code",
   "execution_count": 10,
   "id": "731f7070",
   "metadata": {},
   "outputs": [],
   "source": [
    "# Sort values\n",
    "wdi.sort_values(by=['iso3','year'])\n",
    "\n",
    "# Save output\n",
    "path_cleandata = os.path.normpath(os.getcwd()+os.sep+os.pardir)+'/CleanData/'\n",
    "wdi.to_pickle(path_cleandata+'WDI.pkl')\n"
   ]
  },
  {
   "cell_type": "code",
   "execution_count": null,
   "id": "1be48050",
   "metadata": {},
   "outputs": [],
   "source": []
  }
 ],
 "metadata": {
  "kernelspec": {
   "display_name": "Python 3 (ipykernel)",
   "language": "python",
   "name": "python3"
  },
  "language_info": {
   "codemirror_mode": {
    "name": "ipython",
    "version": 3
   },
   "file_extension": ".py",
   "mimetype": "text/x-python",
   "name": "python",
   "nbconvert_exporter": "python",
   "pygments_lexer": "ipython3",
   "version": "3.9.7"
  }
 },
 "nbformat": 4,
 "nbformat_minor": 5
}
