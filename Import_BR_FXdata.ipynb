{
 "cells": [
  {
   "cell_type": "code",
   "execution_count": 8,
   "id": "f61dee71",
   "metadata": {},
   "outputs": [],
   "source": [
    "import pandas as pd\n",
    "import numpy as np\n",
    "from datetime import datetime\n",
    "import xlrd\n",
    "import pickle\n",
    "import calendar\n",
    "import os\n",
    "from dotenv import dotenv_values, find_dotenv\n",
    "\n",
    "# this looks for your configuration file and then reads it as a dictionary\n",
    "config = dotenv_values(find_dotenv())\n",
    "\n",
    "# set path using the dictionary key for which one you want\n",
    "path_cleandata = os.path.abspath(config[\"CLEANDATA\"]) + '\\\\'\n",
    "path_rawdata = os.path.abspath(config[\"RAWDATA\"]) + '\\\\'"
   ]
  },
  {
   "cell_type": "code",
   "execution_count": 3,
   "id": "3b156799",
   "metadata": {},
   "outputs": [],
   "source": [
    "# Import forward rates\n",
    "fwdwide = pd.read_pickle(path_cleandata+'BR_Fwd_dM'+'.pkl')\n",
    "\n",
    "# Import spot rates\n",
    "spotwide = pd.read_pickle(path_cleandata+'BR_Spot_dM'+'.pkl')\n",
    "\n",
    "# Import CPI\n",
    "cpiwide = pd.read_pickle(path_cleandata+'DataStream_CPI_M'+'.pkl')"
   ]
  },
  {
   "cell_type": "code",
   "execution_count": 4,
   "id": "6cdc5730",
   "metadata": {},
   "outputs": [],
   "source": [
    "# convert spot data from wide to long\n",
    "spotlong = pd.melt(spotwide.reset_index(), id_vars='index', var_name='imfcode', value_name='spot').rename(columns={'index': 'Date'})\n",
    "\n",
    "# convert forward data from wide to long\n",
    "fwdlong = pd.melt(fwdwide.reset_index(), id_vars='index', var_name='imfcode', value_name='fwd1').rename(columns={'index': 'Date'})\n",
    "\n",
    "# convert cpi data from wide to long\n",
    "cpilong = pd.melt(cpiwide.reset_index(), id_vars='EndOfMonth', var_name='imfcode', value_name='cpi').rename(columns={\"EndOfMonth\": \"Date\"})"
   ]
  },
  {
   "cell_type": "code",
   "execution_count": 5,
   "id": "949b45b6",
   "metadata": {},
   "outputs": [],
   "source": [
    "# merge spot and forward data\n",
    "fxdat = pd.merge(left=spotlong, right=fwdlong, how='inner', on=['Date', 'imfcode'])"
   ]
  },
  {
   "cell_type": "code",
   "execution_count": 6,
   "id": "635ed8e5",
   "metadata": {},
   "outputs": [],
   "source": [
    "# merge CPI and FX\n",
    "# will return an empty dataset since fake CPI data has no common dates with FX data\n",
    "alldata = pd.merge(left=cpilong, right=fxdat, how='outer', on=['Date', 'imfcode'])"
   ]
  },
  {
   "cell_type": "code",
   "execution_count": 9,
   "id": "630f450c",
   "metadata": {},
   "outputs": [],
   "source": [
    "# add iso3 column\n",
    "alldata['iso3'] = np.nan\n",
    "\n",
    "# change imf codes to iso3: euro area\n",
    "alldata.loc[alldata['imfcode'] == '163', 'iso3'] = 'EUR'\n",
    "\n",
    "# change imf codes to iso3: other countries\n",
    "# make an imf to iso code dictionary\n",
    "IMF_to_ISO = pd.read_csv(path_rawdata+'Country_iso_codes.csv')\n",
    "# imf codes in data are stored as strings\n",
    "IMF_to_ISO['IMF'] = IMF_to_ISO['IMF'].astype(str)\n",
    "# create dictionary from xlsx file with imf to iso codes\n",
    "IMF_to_ISO_dict = dict(zip(IMF_to_ISO['IMF'], IMF_to_ISO['iso3']))\n",
    "# fill in the iso3 column for the rest of the countries\n",
    "alldata['iso3'] = alldata['iso3'].fillna(alldata['imfcode'].map(IMF_to_ISO_dict))"
   ]
  },
  {
   "cell_type": "code",
   "execution_count": 10,
   "id": "bdd284f0",
   "metadata": {},
   "outputs": [],
   "source": [
    "# create us-only cpi dataframe\n",
    "cpius = alldata.loc[alldata['imfcode'] == '111'][['Date', 'cpi']]\n",
    "cpius = cpius.rename(columns={'cpi': 'cpius'})\n"
   ]
  },
  {
   "cell_type": "code",
   "execution_count": 11,
   "id": "9f0a7811",
   "metadata": {},
   "outputs": [],
   "source": [
    "# create merge cpius with alldata\n",
    "alldata = pd.merge(left=alldata, right=cpius, how='inner', on=['Date'])"
   ]
  },
  {
   "cell_type": "code",
   "execution_count": 11,
   "id": "3bdf6b5a",
   "metadata": {},
   "outputs": [],
   "source": [
    "# reset index\n",
    "# alldata.set_index('Date', inplace=True)\n",
    "\n",
    "# fix the way the dates are displaying\n",
    "# alldata.index = pd.to_datetime(alldata.index, format='%Y-%m-%d')\n",
    "\n",
    "# change index name to date\n",
    "# alldata.index.names = ['Date']"
   ]
  },
  {
   "cell_type": "code",
   "execution_count": 12,
   "id": "42688790",
   "metadata": {},
   "outputs": [],
   "source": [
    "# save\n",
    "alldata[['iso3', 'Date', 'spot', 'fwd1', 'cpi', 'cpius']].to_pickle(path_cleandata+'BR_Spot_Fwd_Real'+'.pkl')"
   ]
  }
 ],
 "metadata": {
  "kernelspec": {
   "display_name": "Python 3 (ipykernel)",
   "language": "python",
   "name": "python3"
  },
  "language_info": {
   "codemirror_mode": {
    "name": "ipython",
    "version": 3
   },
   "file_extension": ".py",
   "mimetype": "text/x-python",
   "name": "python",
   "nbconvert_exporter": "python",
   "pygments_lexer": "ipython3",
   "version": "3.11.3"
  }
 },
 "nbformat": 4,
 "nbformat_minor": 5
}
