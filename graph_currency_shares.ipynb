{
 "cells": [
  {
   "cell_type": "markdown",
   "metadata": {},
   "source": [
    "# Purpose:\n",
    "\n",
    "Let's do some graphs of the different types of currency share data we have produced. First I will plot the following:\n",
    "1. Raw Currency Share data (from Boz et al)\n",
    "2. Consumption/Export Shares without a non-tradable/tradable adjustment\n",
    "3. Consumption/Export Shares with a manual tradable/non-tradable classification\n",
    "4. Consumption/Export shares with a threshold based tradable/non-tradable classification (with the threshold set to everything above 0.9 being classified as non-tradable)"
   ]
  },
  {
   "cell_type": "code",
   "execution_count": 125,
   "metadata": {},
   "outputs": [],
   "source": [
    "import pandas as pd\n",
    "import numpy as np\n",
    "import pickle\n",
    "from ipywidgets import FloatProgress\n",
    "import matplotlib.pyplot as plt\n",
    "import pandas as pd  # Import the package\n",
    "import numpy as np\n",
    "import statsmodels.api as sm\n",
    "import re\n",
    "import statsmodels.tsa.x13 as X13\n",
    "import matplotlib.pyplot as plt\n",
    "import matplotlib.lines as mlines\n",
    "import matplotlib.dates as pltdates\n",
    "import matplotlib.patches as mpatches\n",
    "import matplotlib as matplotlib\n",
    "import linearmodels as lm\n",
    "import statsmodels.formula.api as smf\n",
    "from linearmodels import PanelOLS\n",
    "from linearmodels import IV2SLS\n",
    "from linearmodels import IVGMM\n",
    "from ipywidgets import FloatProgress\n",
    "from IPython.display import display\n",
    "import argparse\n",
    "import os\n",
    "import subprocess\n",
    "from datetime import datetime\n",
    "import scipy as scipy\n",
    "import xlrd as xlrd\n",
    "import country_converter as coco\n",
    "import warnings\n",
    "from dotenv import dotenv_values, find_dotenv\n",
    "# this looks for your configuration file and then reads it as a dictionary\n",
    "config = dotenv_values(find_dotenv())\n",
    "\n",
    "# Set parameters and paths\n",
    "path_cleandata = config[\"CLEANDATA\"] + '/'\n",
    "path_rawdata = os.path.abspath(config[\"RAWDATA\"]) + '/'\n",
    "path_ICIO = os.path.abspath(config[\"RAWDATA\"]) + '/ICIO/'\n",
    "path_invoicing = os.path.abspath(config[\"RAWDATA\"]) + '/'\n"
   ]
  },
  {
   "cell_type": "markdown",
   "metadata": {},
   "source": [
    "1. Load in the data"
   ]
  },
  {
   "cell_type": "code",
   "execution_count": 126,
   "metadata": {},
   "outputs": [],
   "source": [
    "df_none = pd.read_pickle(path_cleandata+'FullData_ICIO_Nov14_2023_noTradableClassification.pkl')\n",
    "df_manual =pd.read_pickle(path_cleandata+'FullData_ICIO_Nov14_2023_manualTradableClassification.pkl') \n",
    "df_threshold = pd.read_pickle(path_cleandata+'FullData_ICIO_Nov14_2023_tradableThreshold.pkl')"
   ]
  },
  {
   "cell_type": "markdown",
   "metadata": {},
   "source": [
    "2. Write a function to plot the data with a bar graph and an option to include a line graph for the currency concentration measure"
   ]
  },
  {
   "cell_type": "code",
   "execution_count": 157,
   "metadata": {},
   "outputs": [],
   "source": [
    "def CountryPlot_sumShares(df,ciso,cnam,ax):\n",
    "    matplotlib.rcParams['hatch.linewidth']=2\n",
    "    collapse_none = df.groupby(['Country','iso3','year']).mean(numeric_only=True).reset_index()\n",
    "    collapse_none['SumShares_I']=collapse_none['SumShares_I']*100\n",
    "    collapse_none.loc[collapse_none['iso3']==ciso,['year','SumShares_I']].set_index('year').plot(color='black',use_index=False,ax=ax)\n",
    "    collapse_none.loc[collapse_none['iso3']==ciso,['year','Import USD_I','Import EUR_I','Import Home_I','Import Other_I']].set_index('year').plot.bar(stacked=True,hatch=\"/\",edgecolor='white',ax=ax)\n",
    "    collapse_none.loc[collapse_none['iso3']==ciso,['year','Import USD_I','Import EUR','Import Home','Import Other']].set_index('year').plot.bar(stacked=True,ax=ax)\n",
    "    ax.legend([\"Sum of Shares\",'_1','_2','_3','_4','USD','EUR','Home','Other'])\n",
    "    ax.set_title(cnam,fontsize=20)\n",
    "def CountryPlot_noSumShares(df,ciso,cnam,ax):\n",
    "    matplotlib.rcParams['hatch.linewidth']=2\n",
    "    collapse_none = df.groupby(['Country','iso3','year']).mean(numeric_only=True).reset_index()\n",
    "    #collapse_none['SumShares_I']=collapse_none['SumShares_I']*100\n",
    "    #ax=collapse_none.loc[collapse_none['iso3']==ciso,['year','SumShares_I']].set_index('year').plot(color='black',use_index=False)\n",
    "    ax=collapse_none.loc[collapse_none['iso3']==ciso,['year','Import USD_I','Import EUR_I','Import Home_I','Import Other_I']].set_index('year').plot.bar(stacked=True,hatch=\"/\",edgecolor='white',ax=ax)\n",
    "    ax = collapse_none.loc[collapse_none['iso3']==ciso,['year','Import USD_I','Import EUR','Import Home','Import Other']].set_index('year').plot.bar(stacked=True,ax=ax)\n",
    "    ax.legend([\"Sum of Shares\",'_1','_2','_3','_4','USD','EUR','Home','Other'])\n",
    "    ax.set_title(cnam,fontsize=20)"
   ]
  },
  {
   "cell_type": "code",
   "execution_count": 159,
   "metadata": {},
   "outputs": [],
   "source": [
    "warnings.filterwarnings(\"ignore\")\n",
    "count=0\n",
    "width=0\n",
    "height=0\n",
    "matplotlib.rcParams['figure.figsize']=[40,100]\n",
    "fig,subs = plt.subplots(15,4,sharex='all',sharey='all')\n",
    "for c in df_none['iso3'].unique():\n",
    "\n",
    "    country=df_none.loc[df_none['iso3']==c,'Country'].values[0]\n",
    "    if df_none.loc[df_none['iso3']==c,'Import USD'].notnull().any():\n",
    "        count+=1\n",
    "        \n",
    "        CountryPlot_sumShares(df_none,c,country,subs[height,width])\n",
    "        width+=1\n",
    "        if width==4:\n",
    "            width=0\n",
    "            height+=1"
   ]
  },
  {
   "cell_type": "code",
   "execution_count": 151,
   "metadata": {},
   "outputs": [
    {
     "data": {
      "text/plain": [
       "57"
      ]
     },
     "execution_count": 151,
     "metadata": {},
     "output_type": "execute_result"
    }
   ],
   "source": [
    "count"
   ]
  },
  {
   "cell_type": "code",
   "execution_count": 93,
   "metadata": {},
   "outputs": [
    {
     "data": {
      "text/plain": [
       "'New Zealand'"
      ]
     },
     "execution_count": 93,
     "metadata": {},
     "output_type": "execute_result"
    }
   ],
   "source": []
  },
  {
   "cell_type": "code",
   "execution_count": null,
   "metadata": {},
   "outputs": [],
   "source": []
  }
 ],
 "metadata": {
  "kernelspec": {
   "display_name": "base",
   "language": "python",
   "name": "python3"
  },
  "language_info": {
   "codemirror_mode": {
    "name": "ipython",
    "version": 3
   },
   "file_extension": ".py",
   "mimetype": "text/x-python",
   "name": "python",
   "nbconvert_exporter": "python",
   "pygments_lexer": "ipython3",
   "version": "3.9.12"
  }
 },
 "nbformat": 4,
 "nbformat_minor": 2
}
